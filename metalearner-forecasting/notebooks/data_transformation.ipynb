{
 "cells": [
  {
   "cell_type": "code",
   "execution_count": 3,
   "metadata": {},
   "outputs": [],
   "source": [
    "import pandas as pd\n",
    "import numpy as np\n",
    "import logging\n",
    "from importlib import import_module\n",
    "import utils\n",
    "import yaml\n",
    "from utils import read_config\n",
    "from utils import read_process\n",
    "import matplotlib.pyplot as plt\n",
    "import seaborn as sns "
   ]
  },
  {
   "cell_type": "code",
   "execution_count": 8,
   "metadata": {},
   "outputs": [],
   "source": [
    "class DataTransformation:\n",
    "    def __init__(self, processed_data, window=42, forecast=7, shift=7, single=False):\n",
    "        self._data = processed_data.copy()\n",
    "        self.window = window\n",
    "        self.forecast = forecast\n",
    "        self.shift = shift\n",
    "        if not single:\n",
    "            self.build_training_data()\n",
    "            print(\"Done Initializing\")\n",
    "\n",
    "    def rolling_transformation(self):\n",
    "        num_windows = int((len(self._data) - self.window) / self.shift) + 1\n",
    "        dataset = []\n",
    "        for i in range(num_windows):\n",
    "            start_idx = 0 + self.shift * i\n",
    "            end_idx = self.window + self.shift * i\n",
    "            window_data = self._data[start_idx:end_idx]\n",
    "            np_array = np.array(window_data)\n",
    "            dataset.append(np_array)\n",
    "        self.dataset = np.array(dataset)\n",
    "\n",
    "        # Prepare inputs and outputs\n",
    "        self.input_1 = self.dataset[:, :, 1:].copy()\n",
    "        self.input_2 = self.dataset[:, :-1*self.forecast, 0:1].copy()\n",
    "        self.output = self.dataset[:, -1*self.forecast:, 0:1].copy()"
   ]
  },
  {
   "cell_type": "code",
   "execution_count": 9,
   "metadata": {},
   "outputs": [],
   "source": [
    "data_array = np.load('D:\\\\Crider_Forecasting\\\\crider_forecasting\\\\notebooks\\\\preprocessed_data.npy')\n",
    "# Convert the NumPy array into a pandas DataFrame\n",
    "df = pd.DataFrame(data_array)"
   ]
  },
  {
   "cell_type": "code",
   "execution_count": 10,
   "metadata": {},
   "outputs": [
    {
     "ename": "AttributeError",
     "evalue": "'DataTransformation' object has no attribute 'build_training_data'",
     "output_type": "error",
     "traceback": [
      "\u001b[1;31m---------------------------------------------------------------------------\u001b[0m",
      "\u001b[1;31mAttributeError\u001b[0m                            Traceback (most recent call last)",
      "\u001b[1;32md:\\Crider_Forecasting\\crider_forecasting\\notebooks\\data_transformation.ipynb Cell 4\u001b[0m line \u001b[0;36m2\n\u001b[0;32m      <a href='vscode-notebook-cell:/d%3A/Crider_Forecasting/crider_forecasting/notebooks/data_transformation.ipynb#W6sZmlsZQ%3D%3D?line=0'>1</a>\u001b[0m \u001b[39m# Initialize DataTransformation object\u001b[39;00m\n\u001b[1;32m----> <a href='vscode-notebook-cell:/d%3A/Crider_Forecasting/crider_forecasting/notebooks/data_transformation.ipynb#W6sZmlsZQ%3D%3D?line=1'>2</a>\u001b[0m data_transformer \u001b[39m=\u001b[39m DataTransformation(df)\n\u001b[0;32m      <a href='vscode-notebook-cell:/d%3A/Crider_Forecasting/crider_forecasting/notebooks/data_transformation.ipynb#W6sZmlsZQ%3D%3D?line=3'>4</a>\u001b[0m \u001b[39m# Execute rolling_transformation method\u001b[39;00m\n\u001b[0;32m      <a href='vscode-notebook-cell:/d%3A/Crider_Forecasting/crider_forecasting/notebooks/data_transformation.ipynb#W6sZmlsZQ%3D%3D?line=4'>5</a>\u001b[0m data_transformer\u001b[39m.\u001b[39mrolling_transformation()\n",
      "\u001b[1;32md:\\Crider_Forecasting\\crider_forecasting\\notebooks\\data_transformation.ipynb Cell 4\u001b[0m line \u001b[0;36m8\n\u001b[0;32m      <a href='vscode-notebook-cell:/d%3A/Crider_Forecasting/crider_forecasting/notebooks/data_transformation.ipynb#W6sZmlsZQ%3D%3D?line=5'>6</a>\u001b[0m \u001b[39mself\u001b[39m\u001b[39m.\u001b[39mshift \u001b[39m=\u001b[39m shift\n\u001b[0;32m      <a href='vscode-notebook-cell:/d%3A/Crider_Forecasting/crider_forecasting/notebooks/data_transformation.ipynb#W6sZmlsZQ%3D%3D?line=6'>7</a>\u001b[0m \u001b[39mif\u001b[39;00m \u001b[39mnot\u001b[39;00m single:\n\u001b[1;32m----> <a href='vscode-notebook-cell:/d%3A/Crider_Forecasting/crider_forecasting/notebooks/data_transformation.ipynb#W6sZmlsZQ%3D%3D?line=7'>8</a>\u001b[0m     \u001b[39mself\u001b[39;49m\u001b[39m.\u001b[39;49mbuild_training_data()\n\u001b[0;32m      <a href='vscode-notebook-cell:/d%3A/Crider_Forecasting/crider_forecasting/notebooks/data_transformation.ipynb#W6sZmlsZQ%3D%3D?line=8'>9</a>\u001b[0m     \u001b[39mprint\u001b[39m(\u001b[39m\"\u001b[39m\u001b[39mDone Initializing\u001b[39m\u001b[39m\"\u001b[39m)\n",
      "\u001b[1;31mAttributeError\u001b[0m: 'DataTransformation' object has no attribute 'build_training_data'"
     ]
    }
   ],
   "source": [
    "# Initialize DataTransformation object\n",
    "data_transformer = DataTransformation(df)\n",
    "\n",
    "# Execute rolling_transformation method\n",
    "data_transformer.rolling_transformation()"
   ]
  },
  {
   "cell_type": "code",
   "execution_count": null,
   "metadata": {},
   "outputs": [],
   "source": []
  }
 ],
 "metadata": {
  "kernelspec": {
   "display_name": "Python 3",
   "language": "python",
   "name": "python3"
  },
  "language_info": {
   "codemirror_mode": {
    "name": "ipython",
    "version": 3
   },
   "file_extension": ".py",
   "mimetype": "text/x-python",
   "name": "python",
   "nbconvert_exporter": "python",
   "pygments_lexer": "ipython3",
   "version": "3.9.13"
  }
 },
 "nbformat": 4,
 "nbformat_minor": 2
}
