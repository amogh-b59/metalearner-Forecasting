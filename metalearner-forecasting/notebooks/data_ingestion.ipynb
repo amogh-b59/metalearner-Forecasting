{
 "cells": [
  {
   "cell_type": "code",
   "execution_count": 229,
   "metadata": {},
   "outputs": [
    {
     "data": {
      "text/plain": [
       "'d:\\\\Crider_Forecasting\\\\notebooks'"
      ]
     },
     "execution_count": 229,
     "metadata": {},
     "output_type": "execute_result"
    }
   ],
   "source": [
    "import os\n",
    "os.getcwd()"
   ]
  },
  {
   "cell_type": "code",
   "execution_count": 230,
   "metadata": {},
   "outputs": [],
   "source": [
    "import sys\n",
    "sys.path.append('d:\\\\Crider_Forecasting\\\\notebooks')\n"
   ]
  },
  {
   "cell_type": "code",
   "execution_count": 231,
   "metadata": {},
   "outputs": [
    {
     "name": "stdout",
     "output_type": "stream",
     "text": [
      "['d:\\\\Crider_Forecasting\\\\notebooks', 'c:\\\\Users\\\\EMPULSE\\\\AppData\\\\Local\\\\Programs\\\\Python\\\\Python39\\\\python39.zip', 'c:\\\\Users\\\\EMPULSE\\\\AppData\\\\Local\\\\Programs\\\\Python\\\\Python39\\\\DLLs', 'c:\\\\Users\\\\EMPULSE\\\\AppData\\\\Local\\\\Programs\\\\Python\\\\Python39\\\\lib', 'c:\\\\Users\\\\EMPULSE\\\\AppData\\\\Local\\\\Programs\\\\Python\\\\Python39', '', 'C:\\\\Users\\\\EMPULSE\\\\AppData\\\\Roaming\\\\Python\\\\Python39\\\\site-packages', 'C:\\\\Users\\\\EMPULSE\\\\AppData\\\\Roaming\\\\Python\\\\Python39\\\\site-packages\\\\win32', 'C:\\\\Users\\\\EMPULSE\\\\AppData\\\\Roaming\\\\Python\\\\Python39\\\\site-packages\\\\win32\\\\lib', 'C:\\\\Users\\\\EMPULSE\\\\AppData\\\\Roaming\\\\Python\\\\Python39\\\\site-packages\\\\Pythonwin', 'c:\\\\Users\\\\EMPULSE\\\\AppData\\\\Local\\\\Programs\\\\Python\\\\Python39\\\\lib\\\\site-packages', 'd:\\\\Crider_Forecasting\\\\notebooks', 'd:\\\\Crider_Forecasting\\\\notebooks', 'd:\\\\Crider_Forecasting\\\\notebooks', 'd:\\\\Crider_Forecasting\\\\notebooks', 'd:\\\\Crider_Forecasting\\\\notebooks', 'd:\\\\Crider_Forecasting\\\\notebooks', 'd:\\\\Crider_Forecasting\\\\notebooks', 'd:\\\\Crider_Forecasting\\\\notebooks', 'd:\\\\Crider_Forecasting\\\\notebooks']\n"
     ]
    }
   ],
   "source": [
    "print(sys.path)"
   ]
  },
  {
   "cell_type": "code",
   "execution_count": 232,
   "metadata": {},
   "outputs": [],
   "source": [
    "import pandas as pd\n",
    "import numpy as np\n",
    "import logging\n",
    "from importlib import import_module\n",
    "import utils\n",
    "import yaml\n",
    "from utils import read_config\n",
    "from utils import read_process\n",
    "import matplotlib.pyplot as plt\n",
    "import seaborn as sns \n",
    "from sklearn.preprocessing import MinMaxScaler"
   ]
  },
  {
   "cell_type": "code",
   "execution_count": 233,
   "metadata": {},
   "outputs": [
    {
     "name": "stdout",
     "output_type": "stream",
     "text": [
      "2.1.1\n"
     ]
    }
   ],
   "source": [
    "print(pd.__version__)"
   ]
  },
  {
   "cell_type": "code",
   "execution_count": 234,
   "metadata": {},
   "outputs": [
    {
     "name": "stdout",
     "output_type": "stream",
     "text": [
      "[2024-02-05 11:44:13,430: INFO: 3867729312: Succefully read data]\n",
      "          Periods     CATEGORY             $         Units  Avg Unit Price  \\\n",
      "0  1 w/e 10/10/20  CANNED MEAT  2.185034e+07  7.743529e+06           2.822   \n",
      "1  1 w/e 10/10/20        CHILI  1.271787e+07  6.085839e+06           2.090   \n",
      "2  1 w/e 10/10/20         TUNA  3.419911e+07  1.980385e+07           1.727   \n",
      "3  1 w/e 10/10/20         TUNA  2.566521e+07  1.402874e+07           1.829   \n",
      "4  1 w/e 10/10/20         STEW  2.919072e+06  1.101263e+06           2.651   \n",
      "\n",
      "   Base Unit Price  Any Promo $  Any Promo Units  \n",
      "0            2.876  1769644.466       697890.443  \n",
      "1            2.200  2008533.993      1094479.367  \n",
      "2            1.859  6450261.441      5357730.966  \n",
      "3            1.980  4147577.768      3358454.914  \n",
      "4            2.699   311030.204       130129.797  \n"
     ]
    }
   ],
   "source": [
    "def read_data(file_type='excel', **kwargs):\n",
    "    config = read_process()\n",
    "    file_path = config.get('file_path', None)\n",
    "    supported_file_types = config.get('supported_file_types', [])\n",
    "\n",
    "    if file_path is None:\n",
    "        raise ValueError(\"File path is not specified in the configuration.\")\n",
    "\n",
    "    if file_type not in supported_file_types:\n",
    "        raise ValueError(f\"Unsupported file type: {file_type}. Supported types: {', '.join(supported_file_types)}\")\n",
    "\n",
    "    try:\n",
    "        if file_type == 'csv':\n",
    "            data = pd.read_csv(file_path, **kwargs)\n",
    "        elif file_type == 'excel':\n",
    "            data = pd.read_excel(file_path, **kwargs)\n",
    "        else:\n",
    "            raise ValueError(f\"Unsupported file type: {file_type}\")\n",
    "        \n",
    "        logging.info(f'Succefully read data')\n",
    "        print(data.head())\n",
    "        return data\n",
    "\n",
    "    except Exception as e:\n",
    "        logging.error(f\"Error reading data from {file_type} file: {e}\")\n",
    "        return None\n",
    "\n",
    "data = read_data(file_type='excel')"
   ]
  },
  {
   "cell_type": "code",
   "execution_count": 235,
   "metadata": {},
   "outputs": [],
   "source": [
    "#if using correctyogurt.csv use the below code\n",
    "#data.drop(columns='sum(DOLLARS)', axis= 1, inplace=True)\n",
    "\n",
    "#while using demo.xlsx use the below code.\n",
    "data.drop(columns=['Any Promo $'], axis=1, inplace=True)"
   ]
  },
  {
   "cell_type": "code",
   "execution_count": 236,
   "metadata": {},
   "outputs": [
    {
     "name": "stdout",
     "output_type": "stream",
     "text": [
      "[2024-02-05 11:44:13,485: INFO: 3886999444: check_leading_spaces completed]\n"
     ]
    },
    {
     "data": {
      "text/plain": [
       "[]"
      ]
     },
     "execution_count": 236,
     "metadata": {},
     "output_type": "execute_result"
    }
   ],
   "source": [
    "def check_leading_spaces(data):\n",
    "        try:\n",
    "            columns_with_spaces = [col for col in data.columns if col.startswith(\" \")]\n",
    "            logging.info('check_leading_spaces completed')\n",
    "            return columns_with_spaces\n",
    "        except Exception as e:\n",
    "              logging.error(f'error checking for leading spaces: {e}')\n",
    "              return None\n",
    "\n",
    "check_leading_spaces(data)"
   ]
  },
  {
   "cell_type": "code",
   "execution_count": 237,
   "metadata": {},
   "outputs": [
    {
     "name": "stdout",
     "output_type": "stream",
     "text": [
      "[2024-02-05 11:44:13,517: INFO: 3221717508: Detected 'Periods' as a potential date column using format '%Y-%m-%d'.]\n"
     ]
    },
    {
     "data": {
      "text/plain": [
       "'Periods'"
      ]
     },
     "execution_count": 237,
     "metadata": {},
     "output_type": "execute_result"
    }
   ],
   "source": [
    "def detect_date_column(data):\n",
    "        \n",
    "        config=read_process()\n",
    "        date_formats = config.get('date_formats', [])\n",
    "\n",
    "        if not date_formats:\n",
    "            logging.warning(\"No date formats specified in the config file. Using default formats.\")\n",
    "            # If date_formats are changed or not present, use the default paramters declared here.\n",
    "            #date_formats = ['%Y-%m-%d', '%Y-%m-%d %H:%M:%S', '%Y-%m-%d %H:%M:%S.%f', '%Y%m%d', '%m/%d/%Y', '%m/%d/%y', '%d/%m/%Y', '%d/%m/%y', 'w/e %m/%d/%y']\n",
    "        for column in data.columns:\n",
    "            for date_format in date_formats:\n",
    "                try:\n",
    "                    pd.to_datetime(data[column], format=date_format, errors='coerce')\n",
    "                    logging.info(f\"Detected '{column}' as a potential date column using format '{date_format}'.\")\n",
    "                    \n",
    "                    return column\n",
    "                except ValueError:\n",
    "                    pass  # Ignore errors and try the next format\n",
    "        logging.info(\"No potential date column detected.\")\n",
    "        return None\n",
    "\n",
    "detect_date_column(data)"
   ]
  },
  {
   "cell_type": "code",
   "execution_count": 238,
   "metadata": {},
   "outputs": [
    {
     "name": "stdout",
     "output_type": "stream",
     "text": [
      "Potential date columns found:\n",
      "- Periods\n"
     ]
    }
   ],
   "source": [
    "def check_date_columns_keyword(data):\n",
    "    config = read_process()\n",
    "    date_column_keywords = config.get('date_column_keywords', [])\n",
    "    \n",
    "    detected_date_columns=[]\n",
    "    \n",
    "    date_columns = [col for col in data.columns if any(keyword.lower() in col.lower() for keyword in date_column_keywords)]\n",
    "\n",
    "    if date_columns:\n",
    "        print(\"Potential date columns found:\")\n",
    "        for col in date_columns:\n",
    "            print(f\"- {col}\")\n",
    "            detected_date_columns.append(col)\n",
    "    else:\n",
    "        print(\"No potential date columns found.\")\n",
    "    return date_columns\n",
    "\n",
    "date_columns = check_date_columns_keyword(data)"
   ]
  },
  {
   "cell_type": "code",
   "execution_count": 239,
   "metadata": {},
   "outputs": [],
   "source": [
    "def sort_dataset_by_date(data, date_columns):\n",
    "\n",
    "    sorted_data = data.sort_values(by=date_columns)\n",
    "    return sorted_data"
   ]
  },
  {
   "cell_type": "code",
   "execution_count": 240,
   "metadata": {},
   "outputs": [
    {
     "data": {
      "text/html": [
       "<div>\n",
       "<style scoped>\n",
       "    .dataframe tbody tr th:only-of-type {\n",
       "        vertical-align: middle;\n",
       "    }\n",
       "\n",
       "    .dataframe tbody tr th {\n",
       "        vertical-align: top;\n",
       "    }\n",
       "\n",
       "    .dataframe thead th {\n",
       "        text-align: right;\n",
       "    }\n",
       "</style>\n",
       "<table border=\"1\" class=\"dataframe\">\n",
       "  <thead>\n",
       "    <tr style=\"text-align: right;\">\n",
       "      <th></th>\n",
       "      <th>Periods</th>\n",
       "      <th>CATEGORY</th>\n",
       "      <th>$</th>\n",
       "      <th>Units</th>\n",
       "      <th>Avg Unit Price</th>\n",
       "      <th>Base Unit Price</th>\n",
       "      <th>Any Promo Units</th>\n",
       "    </tr>\n",
       "  </thead>\n",
       "  <tbody>\n",
       "    <tr>\n",
       "      <th>0</th>\n",
       "      <td>10/10/20</td>\n",
       "      <td>CANNED MEAT</td>\n",
       "      <td>2.185034e+07</td>\n",
       "      <td>7.743529e+06</td>\n",
       "      <td>2.822</td>\n",
       "      <td>2.876</td>\n",
       "      <td>697890.443</td>\n",
       "    </tr>\n",
       "    <tr>\n",
       "      <th>1</th>\n",
       "      <td>10/10/20</td>\n",
       "      <td>CHILI</td>\n",
       "      <td>1.271787e+07</td>\n",
       "      <td>6.085839e+06</td>\n",
       "      <td>2.090</td>\n",
       "      <td>2.200</td>\n",
       "      <td>1094479.367</td>\n",
       "    </tr>\n",
       "    <tr>\n",
       "      <th>2</th>\n",
       "      <td>10/10/20</td>\n",
       "      <td>TUNA</td>\n",
       "      <td>3.419911e+07</td>\n",
       "      <td>1.980385e+07</td>\n",
       "      <td>1.727</td>\n",
       "      <td>1.859</td>\n",
       "      <td>5357730.966</td>\n",
       "    </tr>\n",
       "    <tr>\n",
       "      <th>3</th>\n",
       "      <td>10/10/20</td>\n",
       "      <td>TUNA</td>\n",
       "      <td>2.566521e+07</td>\n",
       "      <td>1.402874e+07</td>\n",
       "      <td>1.829</td>\n",
       "      <td>1.980</td>\n",
       "      <td>3358454.914</td>\n",
       "    </tr>\n",
       "    <tr>\n",
       "      <th>4</th>\n",
       "      <td>10/10/20</td>\n",
       "      <td>STEW</td>\n",
       "      <td>2.919072e+06</td>\n",
       "      <td>1.101263e+06</td>\n",
       "      <td>2.651</td>\n",
       "      <td>2.699</td>\n",
       "      <td>130129.797</td>\n",
       "    </tr>\n",
       "    <tr>\n",
       "      <th>...</th>\n",
       "      <td>...</td>\n",
       "      <td>...</td>\n",
       "      <td>...</td>\n",
       "      <td>...</td>\n",
       "      <td>...</td>\n",
       "      <td>...</td>\n",
       "      <td>...</td>\n",
       "    </tr>\n",
       "    <tr>\n",
       "      <th>21661</th>\n",
       "      <td>10/07/23</td>\n",
       "      <td>CHILI</td>\n",
       "      <td>1.583478e+05</td>\n",
       "      <td>6.402600e+04</td>\n",
       "      <td>2.473</td>\n",
       "      <td>2.590</td>\n",
       "      <td>12438.260</td>\n",
       "    </tr>\n",
       "    <tr>\n",
       "      <th>21662</th>\n",
       "      <td>10/07/23</td>\n",
       "      <td>TUNA</td>\n",
       "      <td>7.192997e+05</td>\n",
       "      <td>3.658650e+05</td>\n",
       "      <td>1.966</td>\n",
       "      <td>2.028</td>\n",
       "      <td>147150.371</td>\n",
       "    </tr>\n",
       "    <tr>\n",
       "      <th>21663</th>\n",
       "      <td>10/07/23</td>\n",
       "      <td>TUNA</td>\n",
       "      <td>4.027962e+05</td>\n",
       "      <td>1.657860e+05</td>\n",
       "      <td>2.430</td>\n",
       "      <td>2.510</td>\n",
       "      <td>89445.302</td>\n",
       "    </tr>\n",
       "    <tr>\n",
       "      <th>21664</th>\n",
       "      <td>10/07/23</td>\n",
       "      <td>STEW</td>\n",
       "      <td>1.670167e+04</td>\n",
       "      <td>5.106000e+03</td>\n",
       "      <td>3.271</td>\n",
       "      <td>3.348</td>\n",
       "      <td>626.320</td>\n",
       "    </tr>\n",
       "    <tr>\n",
       "      <th>21665</th>\n",
       "      <td>10/07/23</td>\n",
       "      <td>STEW</td>\n",
       "      <td>1.670167e+04</td>\n",
       "      <td>5.106000e+03</td>\n",
       "      <td>3.271</td>\n",
       "      <td>3.348</td>\n",
       "      <td>626.320</td>\n",
       "    </tr>\n",
       "  </tbody>\n",
       "</table>\n",
       "<p>21666 rows × 7 columns</p>\n",
       "</div>"
      ],
      "text/plain": [
       "        Periods     CATEGORY             $         Units  Avg Unit Price  \\\n",
       "0      10/10/20  CANNED MEAT  2.185034e+07  7.743529e+06           2.822   \n",
       "1      10/10/20        CHILI  1.271787e+07  6.085839e+06           2.090   \n",
       "2      10/10/20         TUNA  3.419911e+07  1.980385e+07           1.727   \n",
       "3      10/10/20         TUNA  2.566521e+07  1.402874e+07           1.829   \n",
       "4      10/10/20         STEW  2.919072e+06  1.101263e+06           2.651   \n",
       "...         ...          ...           ...           ...             ...   \n",
       "21661  10/07/23        CHILI  1.583478e+05  6.402600e+04           2.473   \n",
       "21662  10/07/23         TUNA  7.192997e+05  3.658650e+05           1.966   \n",
       "21663  10/07/23         TUNA  4.027962e+05  1.657860e+05           2.430   \n",
       "21664  10/07/23         STEW  1.670167e+04  5.106000e+03           3.271   \n",
       "21665  10/07/23         STEW  1.670167e+04  5.106000e+03           3.271   \n",
       "\n",
       "       Base Unit Price  Any Promo Units  \n",
       "0                2.876       697890.443  \n",
       "1                2.200      1094479.367  \n",
       "2                1.859      5357730.966  \n",
       "3                1.980      3358454.914  \n",
       "4                2.699       130129.797  \n",
       "...                ...              ...  \n",
       "21661            2.590        12438.260  \n",
       "21662            2.028       147150.371  \n",
       "21663            2.510        89445.302  \n",
       "21664            3.348          626.320  \n",
       "21665            3.348          626.320  \n",
       "\n",
       "[21666 rows x 7 columns]"
      ]
     },
     "execution_count": 240,
     "metadata": {},
     "output_type": "execute_result"
    }
   ],
   "source": [
    "def remove_prefix(data, date_columns):\n",
    "    for col in date_columns:\n",
    "        data[col] = data[col].str.replace(r'^1 w/e ', '', regex=True)\n",
    "    return data\n",
    "\n",
    "remove_prefix(data,date_columns)"
   ]
  },
  {
   "cell_type": "code",
   "execution_count": 241,
   "metadata": {},
   "outputs": [
    {
     "name": "stderr",
     "output_type": "stream",
     "text": [
      "C:\\Users\\EMPULSE\\AppData\\Local\\Temp\\ipykernel_3716\\2260327217.py:3: UserWarning: Could not infer format, so each element will be parsed individually, falling back to `dateutil`. To ensure parsing is consistent and as-expected, please specify a format.\n",
      "  data[col] = pd.to_datetime(data[col], errors='coerce')\n"
     ]
    }
   ],
   "source": [
    "def extract_date_part(data, date_columns):\n",
    "    for col in date_columns:\n",
    "        data[col] = pd.to_datetime(data[col], errors='coerce')\n",
    "        data[col] = data[col].dt.strftime('%m-%d-%y')\n",
    "    return data\n",
    "\n",
    "data = extract_date_part(data, date_columns)"
   ]
  },
  {
   "cell_type": "code",
   "execution_count": 242,
   "metadata": {},
   "outputs": [
    {
     "name": "stdout",
     "output_type": "stream",
     "text": [
      "Index set to the 'Periods' column.\n"
     ]
    }
   ],
   "source": [
    "def set_date_column_as_index(data, date_column):\n",
    "        if date_column in data.columns:\n",
    "            data.set_index(date_column, inplace=True)\n",
    "            print(f\"Index set to the '{date_column}' column.\")\n",
    "        else:\n",
    "            print(f\"Error: '{date_column}' not found in the columns.\")\n",
    "        return data\n",
    "\n",
    "date_column_to_use_as_index = date_columns[0]\n",
    "\n",
    "data = set_date_column_as_index(data, date_column_to_use_as_index)"
   ]
  },
  {
   "cell_type": "code",
   "execution_count": 243,
   "metadata": {},
   "outputs": [
    {
     "name": "stdout",
     "output_type": "stream",
     "text": [
      "[2024-02-05 11:44:18,633: INFO: 4117177363: Numerical columns: ['$', 'Units', 'Avg Unit Price', 'Base Unit Price', 'Any Promo Units']]\n",
      "[2024-02-05 11:44:18,637: INFO: 4117177363: Categorical columns: ['CATEGORY']]\n"
     ]
    }
   ],
   "source": [
    "def detect_column_types(data):\n",
    "    numerical_columns = data.select_dtypes(include=['number']).columns.tolist()\n",
    "    categorical_columns = data.select_dtypes(include=['object', 'category']).columns.tolist()\n",
    "\n",
    "    # Log information about detected column types\n",
    "    logging.info(f\"Numerical columns: {numerical_columns}\")\n",
    "    logging.info(f\"Categorical columns: {categorical_columns}\")\n",
    "\n",
    "    return numerical_columns, categorical_columns\n",
    "\n",
    "numerical_cols , categorical_cols = detect_column_types(data)"
   ]
  },
  {
   "cell_type": "code",
   "execution_count": null,
   "metadata": {},
   "outputs": [],
   "source": [
    "def convert_numerical_columns_to_float(data, numerical_columns):\n",
    "\n",
    "        try:\n",
    "            for column in numerical_columns:\n",
    "                data[column] = data[column].astype(float)\n",
    "                logging.info(f\"Converted '{column}' to float data type.\")\n",
    "            \n",
    "            return data\n",
    "        except Exception as e:\n",
    "            logging.error(f\"Error occurred while converting numerical columns to float: {str(e)}\")\n",
    "            return None"
   ]
  },
  {
   "cell_type": "code",
   "execution_count": 244,
   "metadata": {},
   "outputs": [
    {
     "name": "stdout",
     "output_type": "stream",
     "text": [
      "[2024-02-05 11:44:18,988: INFO: 2748747421: One-Hot Encoding applied to categorical columns: ['CATEGORY']]\n",
      "[2024-02-05 11:44:18,988: INFO: 2748747421: One-Hot encoded columns appended to the original dataset. Updated dataset shape: (21666, 9)]\n"
     ]
    }
   ],
   "source": [
    "def one_hot_encode_categorical_columns(data, categorical_columns):\n",
    "    \n",
    "    data[categorical_columns] = data[categorical_columns].astype(str)\n",
    "    \n",
    "    encoded_data = pd.get_dummies(data, columns=categorical_columns, drop_first=False)\n",
    "    \n",
    "    data.drop(columns=categorical_columns, inplace=True)\n",
    "    \n",
    "    data[encoded_data.columns] = encoded_data\n",
    "\n",
    "    logging.info(f\"One-Hot Encoding applied to categorical columns: {categorical_columns}\")\n",
    "    logging.info(f\"One-Hot encoded columns appended to the original dataset. Updated dataset shape: {data.shape}\")\n",
    "\n",
    "    return data\n",
    "\n",
    "data = one_hot_encode_categorical_columns(data, categorical_cols)"
   ]
  },
  {
   "cell_type": "code",
   "execution_count": 245,
   "metadata": {},
   "outputs": [
    {
     "name": "stdout",
     "output_type": "stream",
     "text": [
      "[2024-02-05 11:44:25,280: INFO: 4267331785: Found target column: $]\n"
     ]
    }
   ],
   "source": [
    "def find_target_column(data):\n",
    "        try:\n",
    "            config = read_process()\n",
    "            target_column_keywords = config.get('target_column_keywords', ['Target'])\n",
    "\n",
    "            target_columns = []\n",
    "            for keyword in target_column_keywords:\n",
    "                for column in data.columns:\n",
    "                    if keyword.lower() in column.lower():\n",
    "                        logging.info(f\"Found target column: {column}\")\n",
    "                        target_columns.append(column)\n",
    "\n",
    "            if target_columns:\n",
    "                return target_columns\n",
    "\n",
    "            logging.warning(\"Target column not found in the dataset columns.\")\n",
    "            return None\n",
    "\n",
    "        except Exception as e:\n",
    "            logging.error(f\"Error occurred while finding target column: {str(e)}\")\n",
    "            return None\n",
    "        \n",
    "target_columns = find_target_column(data)"
   ]
  },
  {
   "cell_type": "code",
   "execution_count": null,
   "metadata": {},
   "outputs": [],
   "source": [
    "def remove_special_characters(data, target_columns):\n",
    "\n",
    "        try:\n",
    "            config = read_process()\n",
    "            target_column_keywords = config.get('target_column_keywords', ['Target'])\n",
    "\n",
    "            for target_column in target_columns:\n",
    "                data[target_column] = data[target_column].apply(lambda x: re.sub(r'[^a-zA-Z0-9\\s]', '', str(x)))\n",
    "                logging.info(f\"Special characters removed from '{target_column}' column.\")\n",
    "                return data\n",
    "            \n",
    "        except Exception as e:\n",
    "            logging.error(f\"Error occurred while removing special characters: {str(e)}\")\n",
    "            return None"
   ]
  },
  {
   "cell_type": "code",
   "execution_count": null,
   "metadata": {},
   "outputs": [],
   "source": [
    "def convert_numerical_columns_to_float(data, numerical_columns):\n",
    "\n",
    "        try:\n",
    "            for column in numerical_columns:\n",
    "                data[column] = data[column].astype(float)\n",
    "                logging.info(f\"Converted '{column}' to float data type.\")\n",
    "            \n",
    "            return data\n",
    "        except Exception as e:\n",
    "            logging.error(f\"Error occurred while converting numerical columns to float: {str(e)}\")\n",
    "            return None"
   ]
  },
  {
   "cell_type": "code",
   "execution_count": 246,
   "metadata": {},
   "outputs": [
    {
     "name": "stdout",
     "output_type": "stream",
     "text": [
      "[2024-02-05 11:44:28,552: INFO: 4227659725: Missing values handled. Null count after treatment: 0]\n"
     ]
    }
   ],
   "source": [
    "def handle_null_values(data):\n",
    "    try:\n",
    "        config = read_process()\n",
    "        missing_values = config.get('missing_values', [])\n",
    "\n",
    "        for missing_value in missing_values:\n",
    "            data.replace(missing_value, pd.NA, inplace=True)\n",
    "\n",
    "        data.ffill(inplace=True)\n",
    "        data.bfill(inplace=True)\n",
    "\n",
    "        null_count = data.isnull().sum().sum()\n",
    "        logging.info(f\"Missing values handled. Null count after treatment: {null_count}\")\n",
    "\n",
    "    except FileNotFoundError as e:\n",
    "        logging.error(f'Config file not found: {str(e)}')\n",
    "    except Exception as e:\n",
    "        logging.error(f'An error occurred: {str(e)}')\n",
    "\n",
    "handle_null_values(data)"
   ]
  },
  {
   "cell_type": "code",
   "execution_count": 247,
   "metadata": {},
   "outputs": [
    {
     "name": "stdout",
     "output_type": "stream",
     "text": [
      "[2024-02-05 11:44:34,864: INFO: 3149303080: Outliers Detected in target column $]\n"
     ]
    },
    {
     "data": {
      "text/html": [
       "<div>\n",
       "<style scoped>\n",
       "    .dataframe tbody tr th:only-of-type {\n",
       "        vertical-align: middle;\n",
       "    }\n",
       "\n",
       "    .dataframe tbody tr th {\n",
       "        vertical-align: top;\n",
       "    }\n",
       "\n",
       "    .dataframe thead th {\n",
       "        text-align: right;\n",
       "    }\n",
       "</style>\n",
       "<table border=\"1\" class=\"dataframe\">\n",
       "  <thead>\n",
       "    <tr style=\"text-align: right;\">\n",
       "      <th></th>\n",
       "      <th>$</th>\n",
       "      <th>Units</th>\n",
       "      <th>Avg Unit Price</th>\n",
       "      <th>Base Unit Price</th>\n",
       "      <th>Any Promo Units</th>\n",
       "      <th>CATEGORY_CANNED MEAT</th>\n",
       "      <th>CATEGORY_CHILI</th>\n",
       "      <th>CATEGORY_STEW</th>\n",
       "      <th>CATEGORY_TUNA</th>\n",
       "    </tr>\n",
       "    <tr>\n",
       "      <th>Periods</th>\n",
       "      <th></th>\n",
       "      <th></th>\n",
       "      <th></th>\n",
       "      <th></th>\n",
       "      <th></th>\n",
       "      <th></th>\n",
       "      <th></th>\n",
       "      <th></th>\n",
       "      <th></th>\n",
       "    </tr>\n",
       "  </thead>\n",
       "  <tbody>\n",
       "    <tr>\n",
       "      <th>10-10-20</th>\n",
       "      <td>2.185034e+07</td>\n",
       "      <td>7.743529e+06</td>\n",
       "      <td>2.822</td>\n",
       "      <td>2.876</td>\n",
       "      <td>697890.443</td>\n",
       "      <td>True</td>\n",
       "      <td>False</td>\n",
       "      <td>False</td>\n",
       "      <td>False</td>\n",
       "    </tr>\n",
       "    <tr>\n",
       "      <th>10-10-20</th>\n",
       "      <td>3.419911e+07</td>\n",
       "      <td>1.980385e+07</td>\n",
       "      <td>1.727</td>\n",
       "      <td>1.859</td>\n",
       "      <td>5357730.966</td>\n",
       "      <td>False</td>\n",
       "      <td>False</td>\n",
       "      <td>False</td>\n",
       "      <td>True</td>\n",
       "    </tr>\n",
       "    <tr>\n",
       "      <th>10-10-20</th>\n",
       "      <td>2.566521e+07</td>\n",
       "      <td>1.402874e+07</td>\n",
       "      <td>1.829</td>\n",
       "      <td>1.980</td>\n",
       "      <td>3358454.914</td>\n",
       "      <td>False</td>\n",
       "      <td>False</td>\n",
       "      <td>False</td>\n",
       "      <td>True</td>\n",
       "    </tr>\n",
       "    <tr>\n",
       "      <th>10-17-20</th>\n",
       "      <td>2.117691e+07</td>\n",
       "      <td>7.629345e+06</td>\n",
       "      <td>2.776</td>\n",
       "      <td>2.864</td>\n",
       "      <td>875571.401</td>\n",
       "      <td>True</td>\n",
       "      <td>False</td>\n",
       "      <td>False</td>\n",
       "      <td>False</td>\n",
       "    </tr>\n",
       "    <tr>\n",
       "      <th>10-17-20</th>\n",
       "      <td>3.257324e+07</td>\n",
       "      <td>1.868280e+07</td>\n",
       "      <td>1.743</td>\n",
       "      <td>1.857</td>\n",
       "      <td>3983485.090</td>\n",
       "      <td>False</td>\n",
       "      <td>False</td>\n",
       "      <td>False</td>\n",
       "      <td>True</td>\n",
       "    </tr>\n",
       "    <tr>\n",
       "      <th>...</th>\n",
       "      <td>...</td>\n",
       "      <td>...</td>\n",
       "      <td>...</td>\n",
       "      <td>...</td>\n",
       "      <td>...</td>\n",
       "      <td>...</td>\n",
       "      <td>...</td>\n",
       "      <td>...</td>\n",
       "      <td>...</td>\n",
       "    </tr>\n",
       "    <tr>\n",
       "      <th>09-16-23</th>\n",
       "      <td>1.976790e+07</td>\n",
       "      <td>9.638832e+06</td>\n",
       "      <td>2.051</td>\n",
       "      <td>2.247</td>\n",
       "      <td>3693627.102</td>\n",
       "      <td>False</td>\n",
       "      <td>False</td>\n",
       "      <td>False</td>\n",
       "      <td>True</td>\n",
       "    </tr>\n",
       "    <tr>\n",
       "      <th>09-23-23</th>\n",
       "      <td>1.929587e+07</td>\n",
       "      <td>9.679725e+06</td>\n",
       "      <td>1.993</td>\n",
       "      <td>2.249</td>\n",
       "      <td>4199822.192</td>\n",
       "      <td>False</td>\n",
       "      <td>False</td>\n",
       "      <td>False</td>\n",
       "      <td>True</td>\n",
       "    </tr>\n",
       "    <tr>\n",
       "      <th>09-30-23</th>\n",
       "      <td>1.906322e+07</td>\n",
       "      <td>9.562792e+06</td>\n",
       "      <td>1.993</td>\n",
       "      <td>2.261</td>\n",
       "      <td>4146478.656</td>\n",
       "      <td>False</td>\n",
       "      <td>False</td>\n",
       "      <td>False</td>\n",
       "      <td>True</td>\n",
       "    </tr>\n",
       "    <tr>\n",
       "      <th>10-07-23</th>\n",
       "      <td>2.215114e+07</td>\n",
       "      <td>1.163649e+07</td>\n",
       "      <td>1.904</td>\n",
       "      <td>2.264</td>\n",
       "      <td>5935532.242</td>\n",
       "      <td>False</td>\n",
       "      <td>False</td>\n",
       "      <td>False</td>\n",
       "      <td>True</td>\n",
       "    </tr>\n",
       "    <tr>\n",
       "      <th>10-07-23</th>\n",
       "      <td>1.768577e+07</td>\n",
       "      <td>8.993980e+06</td>\n",
       "      <td>1.966</td>\n",
       "      <td>2.394</td>\n",
       "      <td>4687718.801</td>\n",
       "      <td>False</td>\n",
       "      <td>False</td>\n",
       "      <td>False</td>\n",
       "      <td>True</td>\n",
       "    </tr>\n",
       "  </tbody>\n",
       "</table>\n",
       "<p>634 rows × 9 columns</p>\n",
       "</div>"
      ],
      "text/plain": [
       "                     $         Units  Avg Unit Price  Base Unit Price  \\\n",
       "Periods                                                                 \n",
       "10-10-20  2.185034e+07  7.743529e+06           2.822            2.876   \n",
       "10-10-20  3.419911e+07  1.980385e+07           1.727            1.859   \n",
       "10-10-20  2.566521e+07  1.402874e+07           1.829            1.980   \n",
       "10-17-20  2.117691e+07  7.629345e+06           2.776            2.864   \n",
       "10-17-20  3.257324e+07  1.868280e+07           1.743            1.857   \n",
       "...                ...           ...             ...              ...   \n",
       "09-16-23  1.976790e+07  9.638832e+06           2.051            2.247   \n",
       "09-23-23  1.929587e+07  9.679725e+06           1.993            2.249   \n",
       "09-30-23  1.906322e+07  9.562792e+06           1.993            2.261   \n",
       "10-07-23  2.215114e+07  1.163649e+07           1.904            2.264   \n",
       "10-07-23  1.768577e+07  8.993980e+06           1.966            2.394   \n",
       "\n",
       "          Any Promo Units  CATEGORY_CANNED MEAT  CATEGORY_CHILI  \\\n",
       "Periods                                                           \n",
       "10-10-20       697890.443                  True           False   \n",
       "10-10-20      5357730.966                 False           False   \n",
       "10-10-20      3358454.914                 False           False   \n",
       "10-17-20       875571.401                  True           False   \n",
       "10-17-20      3983485.090                 False           False   \n",
       "...                   ...                   ...             ...   \n",
       "09-16-23      3693627.102                 False           False   \n",
       "09-23-23      4199822.192                 False           False   \n",
       "09-30-23      4146478.656                 False           False   \n",
       "10-07-23      5935532.242                 False           False   \n",
       "10-07-23      4687718.801                 False           False   \n",
       "\n",
       "          CATEGORY_STEW  CATEGORY_TUNA  \n",
       "Periods                                 \n",
       "10-10-20          False          False  \n",
       "10-10-20          False           True  \n",
       "10-10-20          False           True  \n",
       "10-17-20          False          False  \n",
       "10-17-20          False           True  \n",
       "...                 ...            ...  \n",
       "09-16-23          False           True  \n",
       "09-23-23          False           True  \n",
       "09-30-23          False           True  \n",
       "10-07-23          False           True  \n",
       "10-07-23          False           True  \n",
       "\n",
       "[634 rows x 9 columns]"
      ]
     },
     "execution_count": 247,
     "metadata": {},
     "output_type": "execute_result"
    }
   ],
   "source": [
    "def detect_outliers_in_target(data, target_columns, threshold=3):\n",
    "        \n",
    "        outliers = pd.DataFrame(index=data.index, columns=target_columns)\n",
    "\n",
    "        for target_column in target_columns:\n",
    "            z_scores = np.abs((data[target_column] - data[target_column].mean()) / data[target_column].std())\n",
    "            outliers[target_column] = z_scores > threshold\n",
    "            \n",
    "            # Create a new column 'outlier' with True if any target column is an outlier\n",
    "            outliers['outlier'] = outliers.any(axis=1)\n",
    "\n",
    "            logging.info(f'Outliers Detected in target column {target_column}')\n",
    "\n",
    "            # Filter the original DataFrame to include only rows with outliers\n",
    "            result_data = data[outliers['outlier']]\n",
    "            \n",
    "        return result_data\n",
    "\n",
    "detect_outliers_in_target(data, target_columns, threshold=3)"
   ]
  },
  {
   "cell_type": "code",
   "execution_count": null,
   "metadata": {},
   "outputs": [],
   "source": [
    "# def treat_outliers_with_median(data, column, threshold=1.5):\n",
    "\n",
    "#     median = data[column].median()\n",
    "#     q1 = data[column].quantile(0.25)\n",
    "#     q3 = data[column].quantile(0.75)\n",
    "#     iqr = q3 - q1\n",
    "\n",
    "#     lower_bound = q1 - threshold * iqr\n",
    "#     upper_bound = q3 + threshold * iqr\n",
    "\n",
    "#     data[column] = np.where((data[column] < lower_bound) | (data[column] > upper_bound), median, data[column])\n",
    "\n",
    "#     return data\n",
    "\n",
    "# treat_outliers_with_median(data, target_columns)"
   ]
  },
  {
   "cell_type": "code",
   "execution_count": 248,
   "metadata": {},
   "outputs": [
    {
     "name": "stdout",
     "output_type": "stream",
     "text": [
      "[2024-02-05 11:44:44,511: INFO: 2025814116: Outlier Treatment completed on target column $]\n"
     ]
    }
   ],
   "source": [
    "logging.basicConfig(level=logging.INFO)\n",
    "\n",
    "def winsorize_data(data, target_columns, lower_percentile=0.05, upper_percentile=0.95):\n",
    "\n",
    "    winsorized_data = data.copy()\n",
    "\n",
    "    for target_column in target_columns:\n",
    "        lower_limit = winsorized_data[target_column].quantile(lower_percentile)\n",
    "        upper_limit = winsorized_data[target_column].quantile(upper_percentile)\n",
    "        winsorized_data[target_column] = np.clip(winsorized_data[target_column], lower_limit, upper_limit)\n",
    "\n",
    "        logging.info(f'Outlier Treatment completed on target column {target_column}')\n",
    "\n",
    "    return winsorized_data\n",
    "\n",
    "data = winsorize_data(data, target_columns)"
   ]
  },
  {
   "cell_type": "code",
   "execution_count": 249,
   "metadata": {},
   "outputs": [
    {
     "data": {
      "image/png": "[encoded data removed]",
      "text/plain": [
       "<Figure size 800x600 with 2 Axes>"
      ]
     },
     "metadata": {},
     "output_type": "display_data"
    },
    {
     "name": "stdout",
     "output_type": "stream",
     "text": [
      "Selected features based on correlation with the targets (threshold=0.5):\n",
      "          Any Promo Units         Units             $\n",
      "Periods                                              \n",
      "10-10-20       697890.443  7.743529e+06  1.022633e+07\n",
      "10-10-20      1094479.367  6.085839e+06  1.022633e+07\n",
      "10-10-20      5357730.966  1.980385e+07  1.022633e+07\n",
      "10-10-20      3358454.914  1.402874e+07  1.022633e+07\n",
      "10-10-20       130129.797  1.101263e+06  2.919072e+06\n",
      "...                   ...           ...           ...\n",
      "10-07-23        12438.260  6.402600e+04  1.583478e+05\n",
      "10-07-23       147150.371  3.658650e+05  7.192997e+05\n",
      "10-07-23        89445.302  1.657860e+05  4.027962e+05\n",
      "10-07-23          626.320  5.106000e+03  1.777806e+04\n",
      "10-07-23          626.320  5.106000e+03  1.777806e+04\n",
      "\n",
      "[21666 rows x 3 columns]\n"
     ]
    }
   ],
   "source": [
    "def correlation_analysis(data, target_columns, threshold=0.5):\n",
    "    correlation_matrix = data.corr()\n",
    "\n",
    "    plt.figure(figsize=(8, 6))\n",
    "    sns.heatmap(correlation_matrix, annot=True, cmap='coolwarm', linewidths=.5)\n",
    "    plt.title('Correlation Matrix')\n",
    "    plt.show()\n",
    "\n",
    "    selected_features = []\n",
    "\n",
    "    for target_column in target_columns:\n",
    "        target_correlation = correlation_matrix[target_column].abs().sort_values(ascending=False)\n",
    "        selected_features.extend(target_correlation[target_correlation > threshold].index.tolist())\n",
    "\n",
    "    selected_features = list(set(selected_features))\n",
    "\n",
    "    print(f\"Selected features based on correlation with the targets (threshold={threshold}):\")\n",
    "    selected_data = data[selected_features]\n",
    "\n",
    "    print(selected_data)\n",
    "    \n",
    "    return selected_data\n",
    "\n",
    "selected_data = correlation_analysis(data, target_columns, threshold=0.5)"
   ]
  },
  {
   "cell_type": "code",
   "execution_count": 252,
   "metadata": {},
   "outputs": [],
   "source": [
    "def normalize_dataset(selected_data):\n",
    "    scaler = MinMaxScaler()\n",
    "    normalised_data = scaler.fit_transform(selected_data)\n",
    "\n",
    "    normalised_data = pd.DataFrame(normalised_data, columns= selected_data.columns, index=selected_data.index)\n",
    "\n",
    "    return normalised_data\n",
    "\n",
    "normalised_df = normalize_dataset(selected_data)"
   ]
  },
  {
   "cell_type": "code",
   "execution_count": 254,
   "metadata": {},
   "outputs": [],
   "source": [
    "def convert_to_numpy(normalised_df):\n",
    "    np_data = normalised_df.to_numpy()\n",
    "\n",
    "    return np_data\n",
    "\n",
    "np_data = convert_to_numpy(normalised_df)"
   ]
  },
  {
   "cell_type": "code",
   "execution_count": 256,
   "metadata": {},
   "outputs": [
    {
     "name": "stdout",
     "output_type": "stream",
     "text": [
      "[[5.64605822e-02 3.33903204e-01 1.00000000e+00]\n",
      " [8.85453338e-02 2.62421323e-01 1.00000000e+00]\n",
      " [4.33449996e-01 8.53960489e-01 1.00000000e+00]\n",
      " ...\n",
      " [7.23628454e-03 7.14059572e-03 3.77152542e-02]\n",
      " [5.06704056e-05 2.11855252e-04 0.00000000e+00]\n",
      " [5.06704056e-05 2.11855252e-04 0.00000000e+00]]\n"
     ]
    }
   ],
   "source": [
    "print(np_data)"
   ]
  },
  {
   "cell_type": "code",
   "execution_count": 1,
   "metadata": {},
   "outputs": [],
   "source": [
    "def __init__(self, processed_data, window=42, forecast=7, shift=7, single=False):\n",
    "        self._data = processed_data.copy()\n",
    "        self.window = window\n",
    "        self.forecast = forecast\n",
    "        self.shift = shift\n",
    "        if single is False:\n",
    "            self.build_training_data()\n",
    "            logging.info(\"Done Initializing\")"
   ]
  },
  {
   "cell_type": "code",
   "execution_count": 2,
   "metadata": {},
   "outputs": [],
   "source": [
    "def rolling_transformation(self):\n",
    "        num_windows = int((len(self._data) - self.window) / self.shift) + 1\n",
    "        dataset = []\n",
    "        for i in range(num_windows):\n",
    "            min = 0 + self.shift * i\n",
    "            max = self.window + self.shift * i\n",
    "            array = self._data[min:max]\n",
    "            np_array = np.array(array)\n",
    "            dataset.append(np_array)\n",
    "        self.dataset = np.array(dataset)\n",
    "        one = self.dataset[:,:,1:].copy()\n",
    "        input_1 = []\n",
    "        for i in range(one.shape[0]):\n",
    "            input_1.append( one[i] )\n",
    "        self.input_1 = np.array(input_1)\n",
    "        two = self.dataset[:,:-1*self.forecast,0:1].copy()\n",
    "        input_2 = []\n",
    "        for i in range(two.shape[0]):\n",
    "            input_2.append( two[i] )\n",
    "        self.input_2 = np.array(input_2)\n",
    "        out = self.dataset[:,-1*self.forecast:,0:1].copy()\n",
    "        output = []\n",
    "        for i in range(out.shape[0]):\n",
    "            output.append(  out[i]  )\n",
    "        self.output = np.array(output)"
   ]
  },
  {
   "cell_type": "code",
   "execution_count": 1,
   "metadata": {},
   "outputs": [],
   "source": [
    "import pandas as pd\n",
    "import numpy as np\n"
   ]
  },
  {
   "cell_type": "code",
   "execution_count": 2,
   "metadata": {},
   "outputs": [],
   "source": [
    "df = pd.read_csv(\"D:\\Crider_Forecasting\\crider_forecasting\\\\notebooks\\garments_worker_productivity.csv\")"
   ]
  },
  {
   "cell_type": "code",
   "execution_count": 3,
   "metadata": {},
   "outputs": [
    {
     "data": {
      "text/html": [
       "<div>\n",
       "<style scoped>\n",
       "    .dataframe tbody tr th:only-of-type {\n",
       "        vertical-align: middle;\n",
       "    }\n",
       "\n",
       "    .dataframe tbody tr th {\n",
       "        vertical-align: top;\n",
       "    }\n",
       "\n",
       "    .dataframe thead th {\n",
       "        text-align: right;\n",
       "    }\n",
       "</style>\n",
       "<table border=\"1\" class=\"dataframe\">\n",
       "  <thead>\n",
       "    <tr style=\"text-align: right;\">\n",
       "      <th></th>\n",
       "      <th>date</th>\n",
       "      <th>quarter</th>\n",
       "      <th>department</th>\n",
       "      <th>day</th>\n",
       "      <th>team</th>\n",
       "      <th>targeted_productivity</th>\n",
       "      <th>smv</th>\n",
       "      <th>wip</th>\n",
       "      <th>over_time</th>\n",
       "      <th>incentive</th>\n",
       "      <th>idle_time</th>\n",
       "      <th>idle_men</th>\n",
       "      <th>no_of_style_change</th>\n",
       "      <th>no_of_workers</th>\n",
       "      <th>actual_productivity</th>\n",
       "    </tr>\n",
       "  </thead>\n",
       "  <tbody>\n",
       "    <tr>\n",
       "      <th>0</th>\n",
       "      <td>1/1/2015</td>\n",
       "      <td>Quarter1</td>\n",
       "      <td>sweing</td>\n",
       "      <td>Thursday</td>\n",
       "      <td>8</td>\n",
       "      <td>0.80</td>\n",
       "      <td>26.16</td>\n",
       "      <td>1108.0</td>\n",
       "      <td>7080</td>\n",
       "      <td>98</td>\n",
       "      <td>0.0</td>\n",
       "      <td>0</td>\n",
       "      <td>0</td>\n",
       "      <td>59.0</td>\n",
       "      <td>0.940725</td>\n",
       "    </tr>\n",
       "    <tr>\n",
       "      <th>1</th>\n",
       "      <td>1/1/2015</td>\n",
       "      <td>Quarter1</td>\n",
       "      <td>finishing</td>\n",
       "      <td>Thursday</td>\n",
       "      <td>1</td>\n",
       "      <td>0.75</td>\n",
       "      <td>3.94</td>\n",
       "      <td>NaN</td>\n",
       "      <td>960</td>\n",
       "      <td>0</td>\n",
       "      <td>0.0</td>\n",
       "      <td>0</td>\n",
       "      <td>0</td>\n",
       "      <td>8.0</td>\n",
       "      <td>0.886500</td>\n",
       "    </tr>\n",
       "    <tr>\n",
       "      <th>2</th>\n",
       "      <td>1/1/2015</td>\n",
       "      <td>Quarter1</td>\n",
       "      <td>sweing</td>\n",
       "      <td>Thursday</td>\n",
       "      <td>11</td>\n",
       "      <td>0.80</td>\n",
       "      <td>11.41</td>\n",
       "      <td>968.0</td>\n",
       "      <td>3660</td>\n",
       "      <td>50</td>\n",
       "      <td>0.0</td>\n",
       "      <td>0</td>\n",
       "      <td>0</td>\n",
       "      <td>30.5</td>\n",
       "      <td>0.800570</td>\n",
       "    </tr>\n",
       "    <tr>\n",
       "      <th>3</th>\n",
       "      <td>1/1/2015</td>\n",
       "      <td>Quarter1</td>\n",
       "      <td>sweing</td>\n",
       "      <td>Thursday</td>\n",
       "      <td>12</td>\n",
       "      <td>0.80</td>\n",
       "      <td>11.41</td>\n",
       "      <td>968.0</td>\n",
       "      <td>3660</td>\n",
       "      <td>50</td>\n",
       "      <td>0.0</td>\n",
       "      <td>0</td>\n",
       "      <td>0</td>\n",
       "      <td>30.5</td>\n",
       "      <td>0.800570</td>\n",
       "    </tr>\n",
       "    <tr>\n",
       "      <th>4</th>\n",
       "      <td>1/1/2015</td>\n",
       "      <td>Quarter1</td>\n",
       "      <td>sweing</td>\n",
       "      <td>Thursday</td>\n",
       "      <td>6</td>\n",
       "      <td>0.80</td>\n",
       "      <td>25.90</td>\n",
       "      <td>1170.0</td>\n",
       "      <td>1920</td>\n",
       "      <td>50</td>\n",
       "      <td>0.0</td>\n",
       "      <td>0</td>\n",
       "      <td>0</td>\n",
       "      <td>56.0</td>\n",
       "      <td>0.800382</td>\n",
       "    </tr>\n",
       "    <tr>\n",
       "      <th>...</th>\n",
       "      <td>...</td>\n",
       "      <td>...</td>\n",
       "      <td>...</td>\n",
       "      <td>...</td>\n",
       "      <td>...</td>\n",
       "      <td>...</td>\n",
       "      <td>...</td>\n",
       "      <td>...</td>\n",
       "      <td>...</td>\n",
       "      <td>...</td>\n",
       "      <td>...</td>\n",
       "      <td>...</td>\n",
       "      <td>...</td>\n",
       "      <td>...</td>\n",
       "      <td>...</td>\n",
       "    </tr>\n",
       "    <tr>\n",
       "      <th>1192</th>\n",
       "      <td>3/11/2015</td>\n",
       "      <td>Quarter2</td>\n",
       "      <td>finishing</td>\n",
       "      <td>Wednesday</td>\n",
       "      <td>10</td>\n",
       "      <td>0.75</td>\n",
       "      <td>2.90</td>\n",
       "      <td>NaN</td>\n",
       "      <td>960</td>\n",
       "      <td>0</td>\n",
       "      <td>0.0</td>\n",
       "      <td>0</td>\n",
       "      <td>0</td>\n",
       "      <td>8.0</td>\n",
       "      <td>0.628333</td>\n",
       "    </tr>\n",
       "    <tr>\n",
       "      <th>1193</th>\n",
       "      <td>3/11/2015</td>\n",
       "      <td>Quarter2</td>\n",
       "      <td>finishing</td>\n",
       "      <td>Wednesday</td>\n",
       "      <td>8</td>\n",
       "      <td>0.70</td>\n",
       "      <td>3.90</td>\n",
       "      <td>NaN</td>\n",
       "      <td>960</td>\n",
       "      <td>0</td>\n",
       "      <td>0.0</td>\n",
       "      <td>0</td>\n",
       "      <td>0</td>\n",
       "      <td>8.0</td>\n",
       "      <td>0.625625</td>\n",
       "    </tr>\n",
       "    <tr>\n",
       "      <th>1194</th>\n",
       "      <td>3/11/2015</td>\n",
       "      <td>Quarter2</td>\n",
       "      <td>finishing</td>\n",
       "      <td>Wednesday</td>\n",
       "      <td>7</td>\n",
       "      <td>0.65</td>\n",
       "      <td>3.90</td>\n",
       "      <td>NaN</td>\n",
       "      <td>960</td>\n",
       "      <td>0</td>\n",
       "      <td>0.0</td>\n",
       "      <td>0</td>\n",
       "      <td>0</td>\n",
       "      <td>8.0</td>\n",
       "      <td>0.625625</td>\n",
       "    </tr>\n",
       "    <tr>\n",
       "      <th>1195</th>\n",
       "      <td>3/11/2015</td>\n",
       "      <td>Quarter2</td>\n",
       "      <td>finishing</td>\n",
       "      <td>Wednesday</td>\n",
       "      <td>9</td>\n",
       "      <td>0.75</td>\n",
       "      <td>2.90</td>\n",
       "      <td>NaN</td>\n",
       "      <td>1800</td>\n",
       "      <td>0</td>\n",
       "      <td>0.0</td>\n",
       "      <td>0</td>\n",
       "      <td>0</td>\n",
       "      <td>15.0</td>\n",
       "      <td>0.505889</td>\n",
       "    </tr>\n",
       "    <tr>\n",
       "      <th>1196</th>\n",
       "      <td>3/11/2015</td>\n",
       "      <td>Quarter2</td>\n",
       "      <td>finishing</td>\n",
       "      <td>Wednesday</td>\n",
       "      <td>6</td>\n",
       "      <td>0.70</td>\n",
       "      <td>2.90</td>\n",
       "      <td>NaN</td>\n",
       "      <td>720</td>\n",
       "      <td>0</td>\n",
       "      <td>0.0</td>\n",
       "      <td>0</td>\n",
       "      <td>0</td>\n",
       "      <td>6.0</td>\n",
       "      <td>0.394722</td>\n",
       "    </tr>\n",
       "  </tbody>\n",
       "</table>\n",
       "<p>1197 rows × 15 columns</p>\n",
       "</div>"
      ],
      "text/plain": [
       "           date   quarter  department        day  team  targeted_productivity  \\\n",
       "0      1/1/2015  Quarter1      sweing   Thursday     8                   0.80   \n",
       "1      1/1/2015  Quarter1  finishing    Thursday     1                   0.75   \n",
       "2      1/1/2015  Quarter1      sweing   Thursday    11                   0.80   \n",
       "3      1/1/2015  Quarter1      sweing   Thursday    12                   0.80   \n",
       "4      1/1/2015  Quarter1      sweing   Thursday     6                   0.80   \n",
       "...         ...       ...         ...        ...   ...                    ...   \n",
       "1192  3/11/2015  Quarter2   finishing  Wednesday    10                   0.75   \n",
       "1193  3/11/2015  Quarter2   finishing  Wednesday     8                   0.70   \n",
       "1194  3/11/2015  Quarter2   finishing  Wednesday     7                   0.65   \n",
       "1195  3/11/2015  Quarter2   finishing  Wednesday     9                   0.75   \n",
       "1196  3/11/2015  Quarter2   finishing  Wednesday     6                   0.70   \n",
       "\n",
       "        smv     wip  over_time  incentive  idle_time  idle_men  \\\n",
       "0     26.16  1108.0       7080         98        0.0         0   \n",
       "1      3.94     NaN        960          0        0.0         0   \n",
       "2     11.41   968.0       3660         50        0.0         0   \n",
       "3     11.41   968.0       3660         50        0.0         0   \n",
       "4     25.90  1170.0       1920         50        0.0         0   \n",
       "...     ...     ...        ...        ...        ...       ...   \n",
       "1192   2.90     NaN        960          0        0.0         0   \n",
       "1193   3.90     NaN        960          0        0.0         0   \n",
       "1194   3.90     NaN        960          0        0.0         0   \n",
       "1195   2.90     NaN       1800          0        0.0         0   \n",
       "1196   2.90     NaN        720          0        0.0         0   \n",
       "\n",
       "      no_of_style_change  no_of_workers  actual_productivity  \n",
       "0                      0           59.0             0.940725  \n",
       "1                      0            8.0             0.886500  \n",
       "2                      0           30.5             0.800570  \n",
       "3                      0           30.5             0.800570  \n",
       "4                      0           56.0             0.800382  \n",
       "...                  ...            ...                  ...  \n",
       "1192                   0            8.0             0.628333  \n",
       "1193                   0            8.0             0.625625  \n",
       "1194                   0            8.0             0.625625  \n",
       "1195                   0           15.0             0.505889  \n",
       "1196                   0            6.0             0.394722  \n",
       "\n",
       "[1197 rows x 15 columns]"
      ]
     },
     "execution_count": 3,
     "metadata": {},
     "output_type": "execute_result"
    }
   ],
   "source": [
    "df"
   ]
  },
  {
   "cell_type": "code",
   "execution_count": 4,
   "metadata": {},
   "outputs": [
    {
     "data": {
      "text/plain": [
       "date                      object\n",
       "quarter                   object\n",
       "department                object\n",
       "day                       object\n",
       "team                       int64\n",
       "targeted_productivity    float64\n",
       "smv                      float64\n",
       "wip                      float64\n",
       "over_time                  int64\n",
       "incentive                  int64\n",
       "idle_time                float64\n",
       "idle_men                   int64\n",
       "no_of_style_change         int64\n",
       "no_of_workers            float64\n",
       "actual_productivity      float64\n",
       "dtype: object"
      ]
     },
     "execution_count": 4,
     "metadata": {},
     "output_type": "execute_result"
    }
   ],
   "source": [
    "df.dtypes"
   ]
  },
  {
   "cell_type": "code",
   "execution_count": 5,
   "metadata": {},
   "outputs": [
    {
     "data": {
      "text/plain": [
       "array([ 7080,   960,  3660,  1920,  6720,  6900,  6000,  6480,  2160,\n",
       "        7200,  1440,  6600,  5640,  1560,  6300,  6540, 13800,  6975,\n",
       "        7020,  6780,  4260,  6660,  4320,  6960,  2400,  3840,  4800,\n",
       "        4440,  1800,  2700, 10620, 10350,  9900,  5310, 10170,  4470,\n",
       "       10530, 10440,  5490,  5670,  9720, 12600, 10050, 15120, 14640,\n",
       "         900, 25920, 10260,  2760,  4710,  9540,  7680,  3600,  6420,\n",
       "        7980,  3240,  8220,  6930,  8460,  7350,  5400,  1620,  1980,\n",
       "        2970,  7320,  5100,  3390,  1260,  3420,  8970,  4950, 10080,\n",
       "        9810,  6570,  5040,  4380,  3630,  8280,  6120,  5580,  3720,\n",
       "        5760,  7470, 10500,  6360,  4140,  8400, 12180,  9000, 15000,\n",
       "       10770, 12000,  9360,  3060,  2520,   720,  3780, 10320,   360,\n",
       "        6840,  1080,  1200,  4080,   240,  5880,  6240,  4200,  3960,\n",
       "         600,  2280,  5940,  1320,  5460,  2040,  4020,  3000,  3360,\n",
       "        5820,  6060,  2640,  7500,  2880,   120,  3300,     0,  3480,\n",
       "        7380,  4560,  7140,  5160,  5280,   840,  5520,   480,  8160,\n",
       "        5700,  2820,  5340,  1680,  7560,  1700,  4680,  3120],\n",
       "      dtype=int64)"
      ]
     },
     "execution_count": 5,
     "metadata": {},
     "output_type": "execute_result"
    }
   ],
   "source": [
    "df['over_time'].unique()"
   ]
  },
  {
   "cell_type": "code",
   "execution_count": 6,
   "metadata": {},
   "outputs": [
    {
     "data": {
      "text/plain": [
       "array([  0. ,  90. , 150. , 270. , 300. ,   2. ,   5. ,   8. ,   4.5,\n",
       "         3.5,   4. ,   6.5])"
      ]
     },
     "execution_count": 6,
     "metadata": {},
     "output_type": "execute_result"
    }
   ],
   "source": [
    "df['idle_time'].unique()"
   ]
  }
 ],
 "metadata": {
  "kernelspec": {
   "display_name": "Python 3",
   "language": "python",
   "name": "python3"
  },
  "language_info": {
   "codemirror_mode": {
    "name": "ipython",
    "version": 3
   },
   "file_extension": ".py",
   "mimetype": "text/x-python",
   "name": "python",
   "nbconvert_exporter": "python",
   "pygments_lexer": "ipython3",
   "version": "3.9.13"
  }
 },
 "nbformat": 4,
 "nbformat_minor": 2
}
